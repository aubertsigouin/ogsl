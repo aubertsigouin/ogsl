{
 "cells": [
  {
   "cell_type": "code",
   "execution_count": 1,
   "metadata": {
    "collapsed": false
   },
   "outputs": [],
   "source": [
    "from plotly.offline import download_plotlyjs, init_notebook_mode, plot, iplot\n",
    "from IPython.core.display import display, HTML\n",
    "import plotly.graph_objs as go\n",
    "import plotly.tools as tls\n",
    "import pandas as pd\n",
    "import numpy as np"
   ]
  },
  {
   "cell_type": "code",
   "execution_count": 2,
   "metadata": {
    "collapsed": false
   },
   "outputs": [
    {
     "data": {
      "text/html": [
       "<div>\n",
       "<table border=\"1\" class=\"dataframe\">\n",
       "  <thead>\n",
       "    <tr style=\"text-align: right;\">\n",
       "      <th></th>\n",
       "      <th>Unnamed: 0</th>\n",
       "      <th>Unnamed: 0.1</th>\n",
       "      <th>start_date</th>\n",
       "      <th>start_station_code</th>\n",
       "      <th>end_date</th>\n",
       "      <th>end_station_code</th>\n",
       "      <th>duration_sec</th>\n",
       "      <th>is_member</th>\n",
       "      <th>year</th>\n",
       "      <th>month</th>\n",
       "      <th>day</th>\n",
       "      <th>hour</th>\n",
       "      <th>day_of_week</th>\n",
       "      <th>qr_st</th>\n",
       "      <th>qr_en</th>\n",
       "      <th>arr_st</th>\n",
       "      <th>arr_en</th>\n",
       "    </tr>\n",
       "  </thead>\n",
       "  <tbody>\n",
       "    <tr>\n",
       "      <th>0</th>\n",
       "      <td>0</td>\n",
       "      <td>0</td>\n",
       "      <td>2017-04-15 00:00</td>\n",
       "      <td>7060</td>\n",
       "      <td>2017-04-15 00:31</td>\n",
       "      <td>7060</td>\n",
       "      <td>1841</td>\n",
       "      <td>1</td>\n",
       "      <td>2017.0</td>\n",
       "      <td>4</td>\n",
       "      <td>15</td>\n",
       "      <td>0.0</td>\n",
       "      <td>5</td>\n",
       "      <td>Verdun-Centre</td>\n",
       "      <td>Verdun-Centre</td>\n",
       "      <td>Verdun</td>\n",
       "      <td>Verdun</td>\n",
       "    </tr>\n",
       "    <tr>\n",
       "      <th>1</th>\n",
       "      <td>1</td>\n",
       "      <td>1</td>\n",
       "      <td>2017-04-15 00:01</td>\n",
       "      <td>6173</td>\n",
       "      <td>2017-04-15 00:10</td>\n",
       "      <td>6173</td>\n",
       "      <td>553</td>\n",
       "      <td>1</td>\n",
       "      <td>2017.0</td>\n",
       "      <td>4</td>\n",
       "      <td>15</td>\n",
       "      <td>0.0</td>\n",
       "      <td>5</td>\n",
       "      <td>Parc-Lafontaine</td>\n",
       "      <td>Parc-Lafontaine</td>\n",
       "      <td>Le Plateau-Mont-Royal</td>\n",
       "      <td>Le Plateau-Mont-Royal</td>\n",
       "    </tr>\n",
       "    <tr>\n",
       "      <th>2</th>\n",
       "      <td>2</td>\n",
       "      <td>2</td>\n",
       "      <td>2017-04-15 00:01</td>\n",
       "      <td>6203</td>\n",
       "      <td>2017-04-15 00:04</td>\n",
       "      <td>6204</td>\n",
       "      <td>195</td>\n",
       "      <td>1</td>\n",
       "      <td>2017.0</td>\n",
       "      <td>4</td>\n",
       "      <td>15</td>\n",
       "      <td>0.0</td>\n",
       "      <td>5</td>\n",
       "      <td>Milton-Parc</td>\n",
       "      <td>Milton-Parc</td>\n",
       "      <td>Le Plateau-Mont-Royal</td>\n",
       "      <td>Le Plateau-Mont-Royal</td>\n",
       "    </tr>\n",
       "    <tr>\n",
       "      <th>3</th>\n",
       "      <td>3</td>\n",
       "      <td>3</td>\n",
       "      <td>2017-04-15 00:01</td>\n",
       "      <td>6104</td>\n",
       "      <td>2017-04-15 00:06</td>\n",
       "      <td>6114</td>\n",
       "      <td>285</td>\n",
       "      <td>1</td>\n",
       "      <td>2017.0</td>\n",
       "      <td>4</td>\n",
       "      <td>15</td>\n",
       "      <td>0.0</td>\n",
       "      <td>5</td>\n",
       "      <td>Sainte-Marie</td>\n",
       "      <td>Sainte-Marie</td>\n",
       "      <td>Ville-Marie</td>\n",
       "      <td>Ville-Marie</td>\n",
       "    </tr>\n",
       "    <tr>\n",
       "      <th>4</th>\n",
       "      <td>4</td>\n",
       "      <td>4</td>\n",
       "      <td>2017-04-15 00:01</td>\n",
       "      <td>6174</td>\n",
       "      <td>2017-04-15 00:11</td>\n",
       "      <td>6174</td>\n",
       "      <td>569</td>\n",
       "      <td>1</td>\n",
       "      <td>2017.0</td>\n",
       "      <td>4</td>\n",
       "      <td>15</td>\n",
       "      <td>0.0</td>\n",
       "      <td>5</td>\n",
       "      <td>Saint-Louis</td>\n",
       "      <td>Saint-Louis</td>\n",
       "      <td>Le Plateau-Mont-Royal</td>\n",
       "      <td>Le Plateau-Mont-Royal</td>\n",
       "    </tr>\n",
       "  </tbody>\n",
       "</table>\n",
       "</div>"
      ],
      "text/plain": [
       "   Unnamed: 0  Unnamed: 0.1        start_date  start_station_code  \\\n",
       "0           0             0  2017-04-15 00:00                7060   \n",
       "1           1             1  2017-04-15 00:01                6173   \n",
       "2           2             2  2017-04-15 00:01                6203   \n",
       "3           3             3  2017-04-15 00:01                6104   \n",
       "4           4             4  2017-04-15 00:01                6174   \n",
       "\n",
       "           end_date  end_station_code  duration_sec  is_member    year  month  \\\n",
       "0  2017-04-15 00:31              7060          1841          1  2017.0      4   \n",
       "1  2017-04-15 00:10              6173           553          1  2017.0      4   \n",
       "2  2017-04-15 00:04              6204           195          1  2017.0      4   \n",
       "3  2017-04-15 00:06              6114           285          1  2017.0      4   \n",
       "4  2017-04-15 00:11              6174           569          1  2017.0      4   \n",
       "\n",
       "   day  hour  day_of_week            qr_st            qr_en  \\\n",
       "0   15   0.0            5    Verdun-Centre    Verdun-Centre   \n",
       "1   15   0.0            5  Parc-Lafontaine  Parc-Lafontaine   \n",
       "2   15   0.0            5      Milton-Parc      Milton-Parc   \n",
       "3   15   0.0            5     Sainte-Marie     Sainte-Marie   \n",
       "4   15   0.0            5      Saint-Louis      Saint-Louis   \n",
       "\n",
       "                  arr_st                 arr_en  \n",
       "0                 Verdun                 Verdun  \n",
       "1  Le Plateau-Mont-Royal  Le Plateau-Mont-Royal  \n",
       "2  Le Plateau-Mont-Royal  Le Plateau-Mont-Royal  \n",
       "3            Ville-Marie            Ville-Marie  \n",
       "4  Le Plateau-Mont-Royal  Le Plateau-Mont-Royal  "
      ]
     },
     "execution_count": 2,
     "metadata": {},
     "output_type": "execute_result"
    }
   ],
   "source": [
    "df = pd.read_csv('/home/maison/Téléchargements/OD_2017-04v2.csv')\n",
    "df.head()"
   ]
  },
  {
   "cell_type": "code",
   "execution_count": 47,
   "metadata": {
    "collapsed": false
   },
   "outputs": [],
   "source": [
    "idx = pd.DataFrame(df.groupby(['qr_st'])['qr_st'].count()).index\n",
    "val = pd.DataFrame(df.groupby(['qr_st'])['qr_st'].count()).values"
   ]
  },
  {
   "cell_type": "code",
   "execution_count": null,
   "metadata": {
    "collapsed": true
   },
   "outputs": [],
   "source": []
  },
  {
   "cell_type": "code",
   "execution_count": 28,
   "metadata": {
    "collapsed": false
   },
   "outputs": [
    {
     "data": {
      "text/html": [
       "<iframe width= \"100%\" height = \"600\" src='image.html'></iframe>"
      ],
      "text/plain": [
       "<IPython.core.display.HTML object>"
      ]
     },
     "metadata": {},
     "output_type": "display_data"
    }
   ],
   "source": [
    "%%HTML\n",
    "<iframe width= \"100%\" height = \"600\" src='image.html'></iframe>"
   ]
  },
  {
   "cell_type": "code",
   "execution_count": 3,
   "metadata": {
    "collapsed": false
   },
   "outputs": [
    {
     "data": {
      "text/plain": [
       "'file:///home/maison/bar1.html'"
      ]
     },
     "execution_count": 3,
     "metadata": {},
     "output_type": "execute_result"
    }
   ],
   "source": [
    "lab = ['qr_st', 'qr_en']\n",
    "\n",
    "idx_s = pd.DataFrame(df.groupby(lab[0])[lab[0]].count()).index\n",
    "val_s = pd.DataFrame(df.groupby(lab[0])[lab[0]].count()).values\n",
    "val_e = pd.DataFrame(df.groupby(lab[1])[lab[1]].count()).values\n",
    "\n",
    "\n",
    "l = []\n",
    "l.append(go.Scatter(x = list(np.arange(len(idx_s)))[0:1], y = list(val_s)[0:1]))\n",
    "l.append(go.Bar(x = list(np.arange(len(idx_s)))[0:1], y = list(val_s)[0:1]))\n",
    "\n",
    "\n",
    "\n",
    "\n",
    "lay = go.Layout(barmode='relative', yaxis = dict(range= np.arange(0,9000)))\n",
    "\n",
    "fig = go.Figure(data=l, layout=lay)\n",
    "plot(fig, filename='bar1.html',auto_open=False)"
   ]
  },
  {
   "cell_type": "code",
   "execution_count": 4,
   "metadata": {
    "collapsed": false
   },
   "outputs": [
    {
     "data": {
      "text/html": [
       "<iframe width= \"100%\" height = \"1000\" src='bar1.html'></iframe>"
      ],
      "text/plain": [
       "<IPython.core.display.HTML object>"
      ]
     },
     "metadata": {},
     "output_type": "display_data"
    }
   ],
   "source": [
    "%%HTML\n",
    "<iframe width= \"100%\" height = \"1000\" src='bar1.html'></iframe>"
   ]
  },
  {
   "cell_type": "code",
   "execution_count": 17,
   "metadata": {
    "collapsed": false
   },
   "outputs": [
    {
     "name": "stderr",
     "output_type": "stream",
     "text": [
      "/home/maison/anaconda3/lib/python3.6/site-packages/networkx/drawing/nx_pylab.py:126: MatplotlibDeprecationWarning:\n",
      "\n",
      "pyplot.hold is deprecated.\n",
      "    Future behavior will be consistent with the long-time default:\n",
      "    plot commands add elements without first clearing the\n",
      "    Axes and/or Figure.\n",
      "\n",
      "/home/maison/anaconda3/lib/python3.6/site-packages/networkx/drawing/nx_pylab.py:138: MatplotlibDeprecationWarning:\n",
      "\n",
      "pyplot.hold is deprecated.\n",
      "    Future behavior will be consistent with the long-time default:\n",
      "    plot commands add elements without first clearing the\n",
      "    Axes and/or Figure.\n",
      "\n",
      "/home/maison/anaconda3/lib/python3.6/site-packages/matplotlib/__init__.py:917: UserWarning:\n",
      "\n",
      "axes.hold is deprecated. Please remove it from your matplotlibrc and/or style files.\n",
      "\n",
      "/home/maison/anaconda3/lib/python3.6/site-packages/matplotlib/rcsetup.py:152: UserWarning:\n",
      "\n",
      "axes.hold is deprecated, will be removed in 3.0\n",
      "\n"
     ]
    }
   ],
   "source": [
    "import networkx as nx\n",
    "import matplotlib.pyplot as plt\n",
    "%matplotlib inline\n",
    "import plotly.offline as py\n",
    "import json\n",
    "\n",
    "stations=json.load(open('/home/maison/Téléchargements/stations.json'))\n",
    "fig= plt.figure(figsize=(10,10))\n",
    "G2 = nx.Graph()\n",
    "\n",
    "for x in range(len(stations['stations'])):\n",
    "    s = stations['stations'][x]\n",
    "    G2.add_node(s['n'], pos=(s['lo'],s['la']))\n",
    "    \n",
    "pos = nx.get_node_attributes(G2,'pos')\n",
    "nx.draw(G2, pos, node_size=10, node_color='k')\n",
    "\n",
    "plot_url = py.plot_mpl(fig)"
   ]
  },
  {
   "cell_type": "code",
   "execution_count": 114,
   "metadata": {
    "collapsed": false
   },
   "outputs": [
    {
     "data": {
      "text/plain": [
       "Index(['Crémazie', 'Côte-Saint-Antoine', 'Côte-Saint-Paul',\n",
       "       'Desmarchais-Crawford', 'François-Perrault', 'Gabriel-Sagard',\n",
       "       'Hochelaga', 'Ile-des-Soeurs', 'Longue-Pointe', 'Lorimier',\n",
       "       'Louis-Hébert', 'Louis-Riel', 'Loyola', 'Maisonneuve', 'Marie-Victorin',\n",
       "       'Mile End', 'Milton-Parc', 'Montagne', 'Nicolas-Viel', 'Outremont',\n",
       "       'Parc-Extension', 'Parc-Jarry', 'Parc-Kent', 'Parc-Lafontaine',\n",
       "       'Parc-Laurier', 'Petite-Bourgogne', 'Petite-Côte',\n",
       "       'Pointe-Saint-Charles', 'Préfontaine', 'Père-Marquette',\n",
       "       'René-Lévesque', 'Saint-Henri', 'Saint-Louis', 'Saint-Sulpice',\n",
       "       'Saint-Édouard', 'Sainte-Lucie', 'Sainte-Marie', 'Sault-au-Récollet',\n",
       "       'Savane', 'Snowdon', 'Upper Lachine', 'Verdun-Centre', 'Vieux-Montréal',\n",
       "       'Vieux-Rosemont', 'Ville-Émard', 'Westmount', 'Édouard-Montpetit',\n",
       "       'Étienne Desmarteaux'],\n",
       "      dtype='object', name='qr_st')"
      ]
     },
     "execution_count": 114,
     "metadata": {},
     "output_type": "execute_result"
    }
   ],
   "source": [
    "idx_s"
   ]
  },
  {
   "cell_type": "code",
   "execution_count": 22,
   "metadata": {
    "collapsed": false
   },
   "outputs": [
    {
     "name": "stderr",
     "output_type": "stream",
     "text": [
      "/home/maison/anaconda3/lib/python3.6/site-packages/plotly/matplotlylib/renderer.py:445: UserWarning:\n",
      "\n",
      "Dang! That path collection is out of this world. I totally don't know what to do with it yet! Plotly can only import path collections linked to 'data' coordinates\n",
      "\n"
     ]
    }
   ],
   "source": [
    "import pandas as pd\n",
    "df1 = pd.read_csv('/home/maison/Téléchargements/OD_2017-04v2.csv')\n",
    "df2 = pd.DataFrame(df1.groupby(by=['start_station_code','end_station_code'])['end_station_code'].count())\n",
    "fig = plt.figure(figsize=(10,10))\n",
    "G4 = nx.Graph()\n",
    "for x in range(len(stations['stations'])):\n",
    "    s = stations['stations'][x]\n",
    "    G4.add_node(s['n'], pos=(s['lo'],s['la']))\n",
    "\n",
    "pos = nx.get_node_attributes(G4,'pos')\n",
    "\n",
    "nx.draw_networkx_nodes(\n",
    "    G4, pos, node_size=30, node_color='r', alpha=0.5)\n",
    "\n",
    "l = []\n",
    "for x in range(len(df2)):\n",
    "    l.append(\n",
    "        (\n",
    "            str(df2.iloc[x].name[0]),\n",
    "            str(df2.iloc[x].name[1]),\n",
    "            int(df2.iloc[x])\n",
    "        )\n",
    "    )\n",
    "\n",
    "\n",
    "G4.add_weighted_edges_from(l)\n",
    "G4.remove_nodes_from(['6269','7022', '7062','6164','6355',\n",
    "                     '6903','6355', '6903', '6280','6231',\n",
    "                     '6748','6925'])\n",
    "\n",
    "\n",
    "\n",
    "edges,weights = zip(*nx.get_edge_attributes(G4,\n",
    "                        'weight').items())\n",
    "\n",
    "nx.draw_networkx_edges(G4,pos,\n",
    "    edgelist=edges, edge_color='k',alpha=1\n",
    ")\n",
    "plot_url = py.plot_mpl(fig)"
   ]
  },
  {
   "cell_type": "code",
   "execution_count": 24,
   "metadata": {
    "collapsed": false
   },
   "outputs": [
    {
     "ename": "ModuleNotFoundError",
     "evalue": "No module named 'qgrid'",
     "output_type": "error",
     "traceback": [
      "\u001b[0;31m---------------------------------------------------------------------------\u001b[0m",
      "\u001b[0;31mModuleNotFoundError\u001b[0m                       Traceback (most recent call last)",
      "\u001b[0;32m<ipython-input-24-a4f5c542216e>\u001b[0m in \u001b[0;36m<module>\u001b[0;34m()\u001b[0m\n\u001b[0;32m----> 1\u001b[0;31m \u001b[0;32mimport\u001b[0m \u001b[0mqgrid\u001b[0m\u001b[0;34m\u001b[0m\u001b[0m\n\u001b[0m",
      "\u001b[0;31mModuleNotFoundError\u001b[0m: No module named 'qgrid'"
     ]
    }
   ],
   "source": [
    "import qgrid"
   ]
  },
  {
   "cell_type": "code",
   "execution_count": 141,
   "metadata": {
    "collapsed": false
   },
   "outputs": [
    {
     "data": {
      "text/plain": [
       "0"
      ]
     },
     "execution_count": 141,
     "metadata": {},
     "output_type": "execute_result"
    }
   ],
   "source": [
    "range(len(idx))[0]"
   ]
  },
  {
   "cell_type": "code",
   "execution_count": 172,
   "metadata": {
    "collapsed": false
   },
   "outputs": [
    {
     "data": {
      "text/plain": [
       "array([0, 1, 2, 3, 4, 5, 6, 7, 8, 9])"
      ]
     },
     "execution_count": 172,
     "metadata": {},
     "output_type": "execute_result"
    }
   ],
   "source": [
    "np.arange(10)"
   ]
  },
  {
   "cell_type": "code",
   "execution_count": 174,
   "metadata": {
    "collapsed": false
   },
   "outputs": [
    {
     "data": {
      "text/plain": [
       "array([-2.18559382,  1.22766235, -0.32011824,  0.13404425, -0.25442147,\n",
       "        1.94133529,  1.76235189,  1.60094529,  2.07693228, -0.57101696])"
      ]
     },
     "execution_count": 174,
     "metadata": {},
     "output_type": "execute_result"
    }
   ],
   "source": [
    "np.random.randn(10)"
   ]
  },
  {
   "cell_type": "code",
   "execution_count": 180,
   "metadata": {
    "collapsed": false
   },
   "outputs": [
    {
     "data": {
      "text/plain": [
       "array([[ 2491],\n",
       "       [ 1394],\n",
       "       [  542],\n",
       "       [  538],\n",
       "       [   55],\n",
       "       [  701],\n",
       "       [  726],\n",
       "       [  391],\n",
       "       [  305],\n",
       "       [ 9358],\n",
       "       [ 2805],\n",
       "       [   48],\n",
       "       [  259],\n",
       "       [ 2248],\n",
       "       [  837],\n",
       "       [12386],\n",
       "       [10717],\n",
       "       [ 5563],\n",
       "       [  143],\n",
       "       [ 2694],\n",
       "       [  415],\n",
       "       [ 2796],\n",
       "       [  674],\n",
       "       [12580],\n",
       "       [15920],\n",
       "       [ 3193],\n",
       "       [ 1848],\n",
       "       [ 2646],\n",
       "       [ 2125],\n",
       "       [ 4704],\n",
       "       [30694],\n",
       "       [ 2876],\n",
       "       [15139],\n",
       "       [  368],\n",
       "       [ 6633],\n",
       "       [  102],\n",
       "       [10289],\n",
       "       [  665],\n",
       "       [  184],\n",
       "       [  250],\n",
       "       [  918],\n",
       "       [ 1968],\n",
       "       [11664],\n",
       "       [ 2813],\n",
       "       [  501],\n",
       "       [ 1906],\n",
       "       [ 2863],\n",
       "       [ 1293]])"
      ]
     },
     "execution_count": 180,
     "metadata": {},
     "output_type": "execute_result"
    }
   ],
   "source": [
    "val_s"
   ]
  },
  {
   "cell_type": "code",
   "execution_count": 481,
   "metadata": {
    "collapsed": true
   },
   "outputs": [],
   "source": [
    "import matplotlib.pyplot as plt\n",
    "import seaborn as sns\n",
    "import plotly.tools as tls"
   ]
  },
  {
   "cell_type": "code",
   "execution_count": 715,
   "metadata": {
    "collapsed": false
   },
   "outputs": [
    {
     "name": "stderr",
     "output_type": "stream",
     "text": [
      "/home/maison/anaconda3/lib/python3.6/site-packages/matplotlib/pyplot.py:524: RuntimeWarning:\n",
      "\n",
      "More than 20 figures have been opened. Figures created through the pyplot interface (`matplotlib.pyplot.figure`) are retained until explicitly closed and may consume too much memory. (To control this warning, see the rcParam `figure.max_open_warning`).\n",
      "\n"
     ]
    },
    {
     "data": {
      "image/png": "[encoded data removed]",
      "text/plain": [
       "<matplotlib.figure.Figure at 0x7feb5a798a58>"
      ]
     },
     "execution_count": 715,
     "metadata": {},
     "output_type": "execute_result"
    }
   ],
   "source": [
    "fig = plt.figure(figsize=(10,10))\n",
    "ax = fig.add_subplot(111)\n",
    "ax.set_ylim(0,40000)\n",
    "\n",
    "ax.plot(np.arange(len(idx_s)), list(val_s), color='b', label = list(idx_s))\n",
    "plt.xticks(range(len(idx_s)), list(idx_s),rotation='vertical')\n",
    "plt.bar(np.arange(len(idx_s)), list(val_e), label = list(idx_s), color='r')\n",
    "sns.despine()\n",
    "fig\n",
    "#df1"
   ]
  },
  {
   "cell_type": "code",
   "execution_count": 716,
   "metadata": {
    "collapsed": false
   },
   "outputs": [],
   "source": [
    "import plotly.offline as py\n",
    "d = tls.mpl_to_plotly(fig)\n",
    "d['layout']['xaxis1'].update({'ticktext': list(idx_s), 'tickvals' : np.arange(len(idx_s))})\n",
    "plot_url = py.plot(d, filename='name.html', auto_open=False)"
   ]
  },
  {
   "cell_type": "code",
   "execution_count": 717,
   "metadata": {
    "collapsed": false
   },
   "outputs": [
    {
     "data": {
      "text/html": [
       "<iframe width= \"75%\" height = \"760\" src='name.html'></iframe>"
      ],
      "text/plain": [
       "<IPython.core.display.HTML object>"
      ]
     },
     "metadata": {},
     "output_type": "display_data"
    }
   ],
   "source": [
    "%%HTML\n",
    "<iframe width= \"75%\" height = \"760\" src='name.html'></iframe>"
   ]
  },
  {
   "cell_type": "code",
   "execution_count": null,
   "metadata": {
    "collapsed": true
   },
   "outputs": [],
   "source": []
  },
  {
   "cell_type": "code",
   "execution_count": 630,
   "metadata": {
    "collapsed": false
   },
   "outputs": [],
   "source": [
    "def pretty_pd(df):\n",
    "    return pd.DataFrame(df).style.set_table_styles(\n",
    "        [\n",
    "         {'selector' : 'tr:nth-child(even)',\n",
    "        'props' : [('background-color', '#d3d3d3')]},\n",
    "        {'selector' : 'tr:hover',\n",
    "         'props' : [('background-color','#a8a8a8')]},\n",
    "        {'selector' : 'td:hover',\n",
    "         'props' : [('background-color','#a8a8a8')]},  \n",
    "        {'selector' : 'tr:hover td:hover',\n",
    "         'props' : [('background-color','#939393')]},\n",
    "        {'selector' : 'td',\n",
    "        'props' : [('border-bottom', '5px solid #e4e4e4')]}])"
   ]
  },
  {
   "cell_type": "code",
   "execution_count": 632,
   "metadata": {
    "collapsed": false
   },
   "outputs": [
    {
     "data": {
      "text/html": [
       "\n",
       "        <style  type=\"text/css\" >\n",
       "        \n",
       "            #T_2518fe1a_480f_11e7_bcdf_a75e8cc1c80c tr:nth-child(even) {\n",
       "            \n",
       "                background-color: #d3d3d3;\n",
       "            \n",
       "            }\n",
       "        \n",
       "            #T_2518fe1a_480f_11e7_bcdf_a75e8cc1c80c tr:hover {\n",
       "            \n",
       "                background-color: #a8a8a8;\n",
       "            \n",
       "            }\n",
       "        \n",
       "            #T_2518fe1a_480f_11e7_bcdf_a75e8cc1c80c td:hover {\n",
       "            \n",
       "                background-color: #a8a8a8;\n",
       "            \n",
       "            }\n",
       "        \n",
       "            #T_2518fe1a_480f_11e7_bcdf_a75e8cc1c80c tr:hover td:hover {\n",
       "            \n",
       "                background-color: #939393;\n",
       "            \n",
       "            }\n",
       "        \n",
       "            #T_2518fe1a_480f_11e7_bcdf_a75e8cc1c80c td {\n",
       "            \n",
       "                border-bottom: 5px solid #e4e4e4;\n",
       "            \n",
       "            }\n",
       "        \n",
       "        \n",
       "        </style>\n",
       "\n",
       "        <table id=\"T_2518fe1a_480f_11e7_bcdf_a75e8cc1c80c\" None>\n",
       "        \n",
       "\n",
       "        <thead>\n",
       "            \n",
       "            <tr>\n",
       "                \n",
       "                \n",
       "                <th class=\"blank level0\" >\n",
       "                  \n",
       "                \n",
       "                \n",
       "                \n",
       "                <th class=\"col_heading level0 col0\" colspan=1>\n",
       "                  Unnamed: 0\n",
       "                \n",
       "                \n",
       "                \n",
       "                <th class=\"col_heading level0 col1\" colspan=1>\n",
       "                  Unnamed: 0.1\n",
       "                \n",
       "                \n",
       "                \n",
       "                <th class=\"col_heading level0 col2\" colspan=1>\n",
       "                  start_date\n",
       "                \n",
       "                \n",
       "                \n",
       "                <th class=\"col_heading level0 col3\" colspan=1>\n",
       "                  start_station_code\n",
       "                \n",
       "                \n",
       "                \n",
       "                <th class=\"col_heading level0 col4\" colspan=1>\n",
       "                  end_date\n",
       "                \n",
       "                \n",
       "                \n",
       "                <th class=\"col_heading level0 col5\" colspan=1>\n",
       "                  end_station_code\n",
       "                \n",
       "                \n",
       "                \n",
       "                <th class=\"col_heading level0 col6\" colspan=1>\n",
       "                  duration_sec\n",
       "                \n",
       "                \n",
       "                \n",
       "                <th class=\"col_heading level0 col7\" colspan=1>\n",
       "                  is_member\n",
       "                \n",
       "                \n",
       "                \n",
       "                <th class=\"col_heading level0 col8\" colspan=1>\n",
       "                  year\n",
       "                \n",
       "                \n",
       "                \n",
       "                <th class=\"col_heading level0 col9\" colspan=1>\n",
       "                  month\n",
       "                \n",
       "                \n",
       "                \n",
       "                <th class=\"col_heading level0 col10\" colspan=1>\n",
       "                  day\n",
       "                \n",
       "                \n",
       "                \n",
       "                <th class=\"col_heading level0 col11\" colspan=1>\n",
       "                  hour\n",
       "                \n",
       "                \n",
       "                \n",
       "                <th class=\"col_heading level0 col12\" colspan=1>\n",
       "                  day_of_week\n",
       "                \n",
       "                \n",
       "                \n",
       "                <th class=\"col_heading level0 col13\" colspan=1>\n",
       "                  qr_st\n",
       "                \n",
       "                \n",
       "                \n",
       "                <th class=\"col_heading level0 col14\" colspan=1>\n",
       "                  qr_en\n",
       "                \n",
       "                \n",
       "                \n",
       "                <th class=\"col_heading level0 col15\" colspan=1>\n",
       "                  arr_st\n",
       "                \n",
       "                \n",
       "                \n",
       "                <th class=\"col_heading level0 col16\" colspan=1>\n",
       "                  arr_en\n",
       "                \n",
       "                \n",
       "            </tr>\n",
       "            \n",
       "        </thead>\n",
       "        <tbody>\n",
       "            \n",
       "            <tr>\n",
       "                \n",
       "                \n",
       "                <th id=\"T_2518fe1a_480f_11e7_bcdf_a75e8cc1c80c\"\n",
       "                 class=\"row_heading level0 row0\" rowspan=1>\n",
       "                    0\n",
       "                \n",
       "                \n",
       "                \n",
       "                <td id=\"T_2518fe1a_480f_11e7_bcdf_a75e8cc1c80crow0_col0\"\n",
       "                 class=\"data row0 col0\" >\n",
       "                    0\n",
       "                \n",
       "                \n",
       "                \n",
       "                <td id=\"T_2518fe1a_480f_11e7_bcdf_a75e8cc1c80crow0_col1\"\n",
       "                 class=\"data row0 col1\" >\n",
       "                    0\n",
       "                \n",
       "                \n",
       "                \n",
       "                <td id=\"T_2518fe1a_480f_11e7_bcdf_a75e8cc1c80crow0_col2\"\n",
       "                 class=\"data row0 col2\" >\n",
       "                    2017-04-15 00:00\n",
       "                \n",
       "                \n",
       "                \n",
       "                <td id=\"T_2518fe1a_480f_11e7_bcdf_a75e8cc1c80crow0_col3\"\n",
       "                 class=\"data row0 col3\" >\n",
       "                    7060\n",
       "                \n",
       "                \n",
       "                \n",
       "                <td id=\"T_2518fe1a_480f_11e7_bcdf_a75e8cc1c80crow0_col4\"\n",
       "                 class=\"data row0 col4\" >\n",
       "                    2017-04-15 00:31\n",
       "                \n",
       "                \n",
       "                \n",
       "                <td id=\"T_2518fe1a_480f_11e7_bcdf_a75e8cc1c80crow0_col5\"\n",
       "                 class=\"data row0 col5\" >\n",
       "                    7060\n",
       "                \n",
       "                \n",
       "                \n",
       "                <td id=\"T_2518fe1a_480f_11e7_bcdf_a75e8cc1c80crow0_col6\"\n",
       "                 class=\"data row0 col6\" >\n",
       "                    1841\n",
       "                \n",
       "                \n",
       "                \n",
       "                <td id=\"T_2518fe1a_480f_11e7_bcdf_a75e8cc1c80crow0_col7\"\n",
       "                 class=\"data row0 col7\" >\n",
       "                    1\n",
       "                \n",
       "                \n",
       "                \n",
       "                <td id=\"T_2518fe1a_480f_11e7_bcdf_a75e8cc1c80crow0_col8\"\n",
       "                 class=\"data row0 col8\" >\n",
       "                    2017\n",
       "                \n",
       "                \n",
       "                \n",
       "                <td id=\"T_2518fe1a_480f_11e7_bcdf_a75e8cc1c80crow0_col9\"\n",
       "                 class=\"data row0 col9\" >\n",
       "                    4\n",
       "                \n",
       "                \n",
       "                \n",
       "                <td id=\"T_2518fe1a_480f_11e7_bcdf_a75e8cc1c80crow0_col10\"\n",
       "                 class=\"data row0 col10\" >\n",
       "                    15\n",
       "                \n",
       "                \n",
       "                \n",
       "                <td id=\"T_2518fe1a_480f_11e7_bcdf_a75e8cc1c80crow0_col11\"\n",
       "                 class=\"data row0 col11\" >\n",
       "                    0\n",
       "                \n",
       "                \n",
       "                \n",
       "                <td id=\"T_2518fe1a_480f_11e7_bcdf_a75e8cc1c80crow0_col12\"\n",
       "                 class=\"data row0 col12\" >\n",
       "                    5\n",
       "                \n",
       "                \n",
       "                \n",
       "                <td id=\"T_2518fe1a_480f_11e7_bcdf_a75e8cc1c80crow0_col13\"\n",
       "                 class=\"data row0 col13\" >\n",
       "                    Verdun-Centre\n",
       "                \n",
       "                \n",
       "                \n",
       "                <td id=\"T_2518fe1a_480f_11e7_bcdf_a75e8cc1c80crow0_col14\"\n",
       "                 class=\"data row0 col14\" >\n",
       "                    Verdun-Centre\n",
       "                \n",
       "                \n",
       "                \n",
       "                <td id=\"T_2518fe1a_480f_11e7_bcdf_a75e8cc1c80crow0_col15\"\n",
       "                 class=\"data row0 col15\" >\n",
       "                    Verdun\n",
       "                \n",
       "                \n",
       "                \n",
       "                <td id=\"T_2518fe1a_480f_11e7_bcdf_a75e8cc1c80crow0_col16\"\n",
       "                 class=\"data row0 col16\" >\n",
       "                    Verdun\n",
       "                \n",
       "                \n",
       "            </tr>\n",
       "            \n",
       "            <tr>\n",
       "                \n",
       "                \n",
       "                <th id=\"T_2518fe1a_480f_11e7_bcdf_a75e8cc1c80c\"\n",
       "                 class=\"row_heading level0 row1\" rowspan=1>\n",
       "                    1\n",
       "                \n",
       "                \n",
       "                \n",
       "                <td id=\"T_2518fe1a_480f_11e7_bcdf_a75e8cc1c80crow1_col0\"\n",
       "                 class=\"data row1 col0\" >\n",
       "                    1\n",
       "                \n",
       "                \n",
       "                \n",
       "                <td id=\"T_2518fe1a_480f_11e7_bcdf_a75e8cc1c80crow1_col1\"\n",
       "                 class=\"data row1 col1\" >\n",
       "                    1\n",
       "                \n",
       "                \n",
       "                \n",
       "                <td id=\"T_2518fe1a_480f_11e7_bcdf_a75e8cc1c80crow1_col2\"\n",
       "                 class=\"data row1 col2\" >\n",
       "                    2017-04-15 00:01\n",
       "                \n",
       "                \n",
       "                \n",
       "                <td id=\"T_2518fe1a_480f_11e7_bcdf_a75e8cc1c80crow1_col3\"\n",
       "                 class=\"data row1 col3\" >\n",
       "                    6173\n",
       "                \n",
       "                \n",
       "                \n",
       "                <td id=\"T_2518fe1a_480f_11e7_bcdf_a75e8cc1c80crow1_col4\"\n",
       "                 class=\"data row1 col4\" >\n",
       "                    2017-04-15 00:10\n",
       "                \n",
       "                \n",
       "                \n",
       "                <td id=\"T_2518fe1a_480f_11e7_bcdf_a75e8cc1c80crow1_col5\"\n",
       "                 class=\"data row1 col5\" >\n",
       "                    6173\n",
       "                \n",
       "                \n",
       "                \n",
       "                <td id=\"T_2518fe1a_480f_11e7_bcdf_a75e8cc1c80crow1_col6\"\n",
       "                 class=\"data row1 col6\" >\n",
       "                    553\n",
       "                \n",
       "                \n",
       "                \n",
       "                <td id=\"T_2518fe1a_480f_11e7_bcdf_a75e8cc1c80crow1_col7\"\n",
       "                 class=\"data row1 col7\" >\n",
       "                    1\n",
       "                \n",
       "                \n",
       "                \n",
       "                <td id=\"T_2518fe1a_480f_11e7_bcdf_a75e8cc1c80crow1_col8\"\n",
       "                 class=\"data row1 col8\" >\n",
       "                    2017\n",
       "                \n",
       "                \n",
       "                \n",
       "                <td id=\"T_2518fe1a_480f_11e7_bcdf_a75e8cc1c80crow1_col9\"\n",
       "                 class=\"data row1 col9\" >\n",
       "                    4\n",
       "                \n",
       "                \n",
       "                \n",
       "                <td id=\"T_2518fe1a_480f_11e7_bcdf_a75e8cc1c80crow1_col10\"\n",
       "                 class=\"data row1 col10\" >\n",
       "                    15\n",
       "                \n",
       "                \n",
       "                \n",
       "                <td id=\"T_2518fe1a_480f_11e7_bcdf_a75e8cc1c80crow1_col11\"\n",
       "                 class=\"data row1 col11\" >\n",
       "                    0\n",
       "                \n",
       "                \n",
       "                \n",
       "                <td id=\"T_2518fe1a_480f_11e7_bcdf_a75e8cc1c80crow1_col12\"\n",
       "                 class=\"data row1 col12\" >\n",
       "                    5\n",
       "                \n",
       "                \n",
       "                \n",
       "                <td id=\"T_2518fe1a_480f_11e7_bcdf_a75e8cc1c80crow1_col13\"\n",
       "                 class=\"data row1 col13\" >\n",
       "                    Parc-Lafontaine\n",
       "                \n",
       "                \n",
       "                \n",
       "                <td id=\"T_2518fe1a_480f_11e7_bcdf_a75e8cc1c80crow1_col14\"\n",
       "                 class=\"data row1 col14\" >\n",
       "                    Parc-Lafontaine\n",
       "                \n",
       "                \n",
       "                \n",
       "                <td id=\"T_2518fe1a_480f_11e7_bcdf_a75e8cc1c80crow1_col15\"\n",
       "                 class=\"data row1 col15\" >\n",
       "                    Le Plateau-Mont-Royal\n",
       "                \n",
       "                \n",
       "                \n",
       "                <td id=\"T_2518fe1a_480f_11e7_bcdf_a75e8cc1c80crow1_col16\"\n",
       "                 class=\"data row1 col16\" >\n",
       "                    Le Plateau-Mont-Royal\n",
       "                \n",
       "                \n",
       "            </tr>\n",
       "            \n",
       "            <tr>\n",
       "                \n",
       "                \n",
       "                <th id=\"T_2518fe1a_480f_11e7_bcdf_a75e8cc1c80c\"\n",
       "                 class=\"row_heading level0 row2\" rowspan=1>\n",
       "                    2\n",
       "                \n",
       "                \n",
       "                \n",
       "                <td id=\"T_2518fe1a_480f_11e7_bcdf_a75e8cc1c80crow2_col0\"\n",
       "                 class=\"data row2 col0\" >\n",
       "                    2\n",
       "                \n",
       "                \n",
       "                \n",
       "                <td id=\"T_2518fe1a_480f_11e7_bcdf_a75e8cc1c80crow2_col1\"\n",
       "                 class=\"data row2 col1\" >\n",
       "                    2\n",
       "                \n",
       "                \n",
       "                \n",
       "                <td id=\"T_2518fe1a_480f_11e7_bcdf_a75e8cc1c80crow2_col2\"\n",
       "                 class=\"data row2 col2\" >\n",
       "                    2017-04-15 00:01\n",
       "                \n",
       "                \n",
       "                \n",
       "                <td id=\"T_2518fe1a_480f_11e7_bcdf_a75e8cc1c80crow2_col3\"\n",
       "                 class=\"data row2 col3\" >\n",
       "                    6203\n",
       "                \n",
       "                \n",
       "                \n",
       "                <td id=\"T_2518fe1a_480f_11e7_bcdf_a75e8cc1c80crow2_col4\"\n",
       "                 class=\"data row2 col4\" >\n",
       "                    2017-04-15 00:04\n",
       "                \n",
       "                \n",
       "                \n",
       "                <td id=\"T_2518fe1a_480f_11e7_bcdf_a75e8cc1c80crow2_col5\"\n",
       "                 class=\"data row2 col5\" >\n",
       "                    6204\n",
       "                \n",
       "                \n",
       "                \n",
       "                <td id=\"T_2518fe1a_480f_11e7_bcdf_a75e8cc1c80crow2_col6\"\n",
       "                 class=\"data row2 col6\" >\n",
       "                    195\n",
       "                \n",
       "                \n",
       "                \n",
       "                <td id=\"T_2518fe1a_480f_11e7_bcdf_a75e8cc1c80crow2_col7\"\n",
       "                 class=\"data row2 col7\" >\n",
       "                    1\n",
       "                \n",
       "                \n",
       "                \n",
       "                <td id=\"T_2518fe1a_480f_11e7_bcdf_a75e8cc1c80crow2_col8\"\n",
       "                 class=\"data row2 col8\" >\n",
       "                    2017\n",
       "                \n",
       "                \n",
       "                \n",
       "                <td id=\"T_2518fe1a_480f_11e7_bcdf_a75e8cc1c80crow2_col9\"\n",
       "                 class=\"data row2 col9\" >\n",
       "                    4\n",
       "                \n",
       "                \n",
       "                \n",
       "                <td id=\"T_2518fe1a_480f_11e7_bcdf_a75e8cc1c80crow2_col10\"\n",
       "                 class=\"data row2 col10\" >\n",
       "                    15\n",
       "                \n",
       "                \n",
       "                \n",
       "                <td id=\"T_2518fe1a_480f_11e7_bcdf_a75e8cc1c80crow2_col11\"\n",
       "                 class=\"data row2 col11\" >\n",
       "                    0\n",
       "                \n",
       "                \n",
       "                \n",
       "                <td id=\"T_2518fe1a_480f_11e7_bcdf_a75e8cc1c80crow2_col12\"\n",
       "                 class=\"data row2 col12\" >\n",
       "                    5\n",
       "                \n",
       "                \n",
       "                \n",
       "                <td id=\"T_2518fe1a_480f_11e7_bcdf_a75e8cc1c80crow2_col13\"\n",
       "                 class=\"data row2 col13\" >\n",
       "                    Milton-Parc\n",
       "                \n",
       "                \n",
       "                \n",
       "                <td id=\"T_2518fe1a_480f_11e7_bcdf_a75e8cc1c80crow2_col14\"\n",
       "                 class=\"data row2 col14\" >\n",
       "                    Milton-Parc\n",
       "                \n",
       "                \n",
       "                \n",
       "                <td id=\"T_2518fe1a_480f_11e7_bcdf_a75e8cc1c80crow2_col15\"\n",
       "                 class=\"data row2 col15\" >\n",
       "                    Le Plateau-Mont-Royal\n",
       "                \n",
       "                \n",
       "                \n",
       "                <td id=\"T_2518fe1a_480f_11e7_bcdf_a75e8cc1c80crow2_col16\"\n",
       "                 class=\"data row2 col16\" >\n",
       "                    Le Plateau-Mont-Royal\n",
       "                \n",
       "                \n",
       "            </tr>\n",
       "            \n",
       "            <tr>\n",
       "                \n",
       "                \n",
       "                <th id=\"T_2518fe1a_480f_11e7_bcdf_a75e8cc1c80c\"\n",
       "                 class=\"row_heading level0 row3\" rowspan=1>\n",
       "                    3\n",
       "                \n",
       "                \n",
       "                \n",
       "                <td id=\"T_2518fe1a_480f_11e7_bcdf_a75e8cc1c80crow3_col0\"\n",
       "                 class=\"data row3 col0\" >\n",
       "                    3\n",
       "                \n",
       "                \n",
       "                \n",
       "                <td id=\"T_2518fe1a_480f_11e7_bcdf_a75e8cc1c80crow3_col1\"\n",
       "                 class=\"data row3 col1\" >\n",
       "                    3\n",
       "                \n",
       "                \n",
       "                \n",
       "                <td id=\"T_2518fe1a_480f_11e7_bcdf_a75e8cc1c80crow3_col2\"\n",
       "                 class=\"data row3 col2\" >\n",
       "                    2017-04-15 00:01\n",
       "                \n",
       "                \n",
       "                \n",
       "                <td id=\"T_2518fe1a_480f_11e7_bcdf_a75e8cc1c80crow3_col3\"\n",
       "                 class=\"data row3 col3\" >\n",
       "                    6104\n",
       "                \n",
       "                \n",
       "                \n",
       "                <td id=\"T_2518fe1a_480f_11e7_bcdf_a75e8cc1c80crow3_col4\"\n",
       "                 class=\"data row3 col4\" >\n",
       "                    2017-04-15 00:06\n",
       "                \n",
       "                \n",
       "                \n",
       "                <td id=\"T_2518fe1a_480f_11e7_bcdf_a75e8cc1c80crow3_col5\"\n",
       "                 class=\"data row3 col5\" >\n",
       "                    6114\n",
       "                \n",
       "                \n",
       "                \n",
       "                <td id=\"T_2518fe1a_480f_11e7_bcdf_a75e8cc1c80crow3_col6\"\n",
       "                 class=\"data row3 col6\" >\n",
       "                    285\n",
       "                \n",
       "                \n",
       "                \n",
       "                <td id=\"T_2518fe1a_480f_11e7_bcdf_a75e8cc1c80crow3_col7\"\n",
       "                 class=\"data row3 col7\" >\n",
       "                    1\n",
       "                \n",
       "                \n",
       "                \n",
       "                <td id=\"T_2518fe1a_480f_11e7_bcdf_a75e8cc1c80crow3_col8\"\n",
       "                 class=\"data row3 col8\" >\n",
       "                    2017\n",
       "                \n",
       "                \n",
       "                \n",
       "                <td id=\"T_2518fe1a_480f_11e7_bcdf_a75e8cc1c80crow3_col9\"\n",
       "                 class=\"data row3 col9\" >\n",
       "                    4\n",
       "                \n",
       "                \n",
       "                \n",
       "                <td id=\"T_2518fe1a_480f_11e7_bcdf_a75e8cc1c80crow3_col10\"\n",
       "                 class=\"data row3 col10\" >\n",
       "                    15\n",
       "                \n",
       "                \n",
       "                \n",
       "                <td id=\"T_2518fe1a_480f_11e7_bcdf_a75e8cc1c80crow3_col11\"\n",
       "                 class=\"data row3 col11\" >\n",
       "                    0\n",
       "                \n",
       "                \n",
       "                \n",
       "                <td id=\"T_2518fe1a_480f_11e7_bcdf_a75e8cc1c80crow3_col12\"\n",
       "                 class=\"data row3 col12\" >\n",
       "                    5\n",
       "                \n",
       "                \n",
       "                \n",
       "                <td id=\"T_2518fe1a_480f_11e7_bcdf_a75e8cc1c80crow3_col13\"\n",
       "                 class=\"data row3 col13\" >\n",
       "                    Sainte-Marie\n",
       "                \n",
       "                \n",
       "                \n",
       "                <td id=\"T_2518fe1a_480f_11e7_bcdf_a75e8cc1c80crow3_col14\"\n",
       "                 class=\"data row3 col14\" >\n",
       "                    Sainte-Marie\n",
       "                \n",
       "                \n",
       "                \n",
       "                <td id=\"T_2518fe1a_480f_11e7_bcdf_a75e8cc1c80crow3_col15\"\n",
       "                 class=\"data row3 col15\" >\n",
       "                    Ville-Marie\n",
       "                \n",
       "                \n",
       "                \n",
       "                <td id=\"T_2518fe1a_480f_11e7_bcdf_a75e8cc1c80crow3_col16\"\n",
       "                 class=\"data row3 col16\" >\n",
       "                    Ville-Marie\n",
       "                \n",
       "                \n",
       "            </tr>\n",
       "            \n",
       "            <tr>\n",
       "                \n",
       "                \n",
       "                <th id=\"T_2518fe1a_480f_11e7_bcdf_a75e8cc1c80c\"\n",
       "                 class=\"row_heading level0 row4\" rowspan=1>\n",
       "                    4\n",
       "                \n",
       "                \n",
       "                \n",
       "                <td id=\"T_2518fe1a_480f_11e7_bcdf_a75e8cc1c80crow4_col0\"\n",
       "                 class=\"data row4 col0\" >\n",
       "                    4\n",
       "                \n",
       "                \n",
       "                \n",
       "                <td id=\"T_2518fe1a_480f_11e7_bcdf_a75e8cc1c80crow4_col1\"\n",
       "                 class=\"data row4 col1\" >\n",
       "                    4\n",
       "                \n",
       "                \n",
       "                \n",
       "                <td id=\"T_2518fe1a_480f_11e7_bcdf_a75e8cc1c80crow4_col2\"\n",
       "                 class=\"data row4 col2\" >\n",
       "                    2017-04-15 00:01\n",
       "                \n",
       "                \n",
       "                \n",
       "                <td id=\"T_2518fe1a_480f_11e7_bcdf_a75e8cc1c80crow4_col3\"\n",
       "                 class=\"data row4 col3\" >\n",
       "                    6174\n",
       "                \n",
       "                \n",
       "                \n",
       "                <td id=\"T_2518fe1a_480f_11e7_bcdf_a75e8cc1c80crow4_col4\"\n",
       "                 class=\"data row4 col4\" >\n",
       "                    2017-04-15 00:11\n",
       "                \n",
       "                \n",
       "                \n",
       "                <td id=\"T_2518fe1a_480f_11e7_bcdf_a75e8cc1c80crow4_col5\"\n",
       "                 class=\"data row4 col5\" >\n",
       "                    6174\n",
       "                \n",
       "                \n",
       "                \n",
       "                <td id=\"T_2518fe1a_480f_11e7_bcdf_a75e8cc1c80crow4_col6\"\n",
       "                 class=\"data row4 col6\" >\n",
       "                    569\n",
       "                \n",
       "                \n",
       "                \n",
       "                <td id=\"T_2518fe1a_480f_11e7_bcdf_a75e8cc1c80crow4_col7\"\n",
       "                 class=\"data row4 col7\" >\n",
       "                    1\n",
       "                \n",
       "                \n",
       "                \n",
       "                <td id=\"T_2518fe1a_480f_11e7_bcdf_a75e8cc1c80crow4_col8\"\n",
       "                 class=\"data row4 col8\" >\n",
       "                    2017\n",
       "                \n",
       "                \n",
       "                \n",
       "                <td id=\"T_2518fe1a_480f_11e7_bcdf_a75e8cc1c80crow4_col9\"\n",
       "                 class=\"data row4 col9\" >\n",
       "                    4\n",
       "                \n",
       "                \n",
       "                \n",
       "                <td id=\"T_2518fe1a_480f_11e7_bcdf_a75e8cc1c80crow4_col10\"\n",
       "                 class=\"data row4 col10\" >\n",
       "                    15\n",
       "                \n",
       "                \n",
       "                \n",
       "                <td id=\"T_2518fe1a_480f_11e7_bcdf_a75e8cc1c80crow4_col11\"\n",
       "                 class=\"data row4 col11\" >\n",
       "                    0\n",
       "                \n",
       "                \n",
       "                \n",
       "                <td id=\"T_2518fe1a_480f_11e7_bcdf_a75e8cc1c80crow4_col12\"\n",
       "                 class=\"data row4 col12\" >\n",
       "                    5\n",
       "                \n",
       "                \n",
       "                \n",
       "                <td id=\"T_2518fe1a_480f_11e7_bcdf_a75e8cc1c80crow4_col13\"\n",
       "                 class=\"data row4 col13\" >\n",
       "                    Saint-Louis\n",
       "                \n",
       "                \n",
       "                \n",
       "                <td id=\"T_2518fe1a_480f_11e7_bcdf_a75e8cc1c80crow4_col14\"\n",
       "                 class=\"data row4 col14\" >\n",
       "                    Saint-Louis\n",
       "                \n",
       "                \n",
       "                \n",
       "                <td id=\"T_2518fe1a_480f_11e7_bcdf_a75e8cc1c80crow4_col15\"\n",
       "                 class=\"data row4 col15\" >\n",
       "                    Le Plateau-Mont-Royal\n",
       "                \n",
       "                \n",
       "                \n",
       "                <td id=\"T_2518fe1a_480f_11e7_bcdf_a75e8cc1c80crow4_col16\"\n",
       "                 class=\"data row4 col16\" >\n",
       "                    Le Plateau-Mont-Royal\n",
       "                \n",
       "                \n",
       "            </tr>\n",
       "            \n",
       "        </tbody>\n",
       "        </table>\n",
       "        "
      ],
      "text/plain": [
       "<pandas.formats.style.Styler at 0x7feb44b8d198>"
      ]
     },
     "execution_count": 632,
     "metadata": {},
     "output_type": "execute_result"
    }
   ],
   "source": [
    "pretty_pd(df.head())"
   ]
  },
  {
   "cell_type": "code",
   "execution_count": 292,
   "metadata": {
    "collapsed": false
   },
   "outputs": [
    {
     "data": {
      "text/html": [
       "<div>\n",
       "<table border=\"14\" class=\"dataframe\">\n",
       "  <thead>\n",
       "    <tr style=\"text-align: right;\">\n",
       "      <th></th>\n",
       "      <th>Unnamed: 0</th>\n",
       "      <th>Unnamed: 0.1</th>\n",
       "      <th>start_date</th>\n",
       "      <th>start_station_code</th>\n",
       "      <th>end_date</th>\n",
       "      <th>end_station_code</th>\n",
       "      <th>...</th>\n",
       "      <th>hour</th>\n",
       "      <th>day_of_week</th>\n",
       "      <th>qr_st</th>\n",
       "      <th>qr_en</th>\n",
       "      <th>arr_st</th>\n",
       "      <th>arr_en</th>\n",
       "    </tr>\n",
       "  </thead>\n",
       "  <tbody>\n",
       "    <tr>\n",
       "      <th>0</th>\n",
       "      <td>0</td>\n",
       "      <td>0</td>\n",
       "      <td>2...</td>\n",
       "      <td>7060</td>\n",
       "      <td>2...</td>\n",
       "      <td>7060</td>\n",
       "      <td>...</td>\n",
       "      <td>0.0</td>\n",
       "      <td>5</td>\n",
       "      <td>V...</td>\n",
       "      <td>V...</td>\n",
       "      <td>V...</td>\n",
       "      <td>V...</td>\n",
       "    </tr>\n",
       "    <tr>\n",
       "      <th>1</th>\n",
       "      <td>1</td>\n",
       "      <td>1</td>\n",
       "      <td>2...</td>\n",
       "      <td>6173</td>\n",
       "      <td>2...</td>\n",
       "      <td>6173</td>\n",
       "      <td>...</td>\n",
       "      <td>0.0</td>\n",
       "      <td>5</td>\n",
       "      <td>P...</td>\n",
       "      <td>P...</td>\n",
       "      <td>L...</td>\n",
       "      <td>L...</td>\n",
       "    </tr>\n",
       "    <tr>\n",
       "      <th>2</th>\n",
       "      <td>2</td>\n",
       "      <td>2</td>\n",
       "      <td>2...</td>\n",
       "      <td>6203</td>\n",
       "      <td>2...</td>\n",
       "      <td>6204</td>\n",
       "      <td>...</td>\n",
       "      <td>0.0</td>\n",
       "      <td>5</td>\n",
       "      <td>M...</td>\n",
       "      <td>M...</td>\n",
       "      <td>L...</td>\n",
       "      <td>L...</td>\n",
       "    </tr>\n",
       "    <tr>\n",
       "      <th>3</th>\n",
       "      <td>3</td>\n",
       "      <td>3</td>\n",
       "      <td>2...</td>\n",
       "      <td>6104</td>\n",
       "      <td>2...</td>\n",
       "      <td>6114</td>\n",
       "      <td>...</td>\n",
       "      <td>0.0</td>\n",
       "      <td>5</td>\n",
       "      <td>S...</td>\n",
       "      <td>S...</td>\n",
       "      <td>V...</td>\n",
       "      <td>V...</td>\n",
       "    </tr>\n",
       "    <tr>\n",
       "      <th>4</th>\n",
       "      <td>4</td>\n",
       "      <td>4</td>\n",
       "      <td>2...</td>\n",
       "      <td>6174</td>\n",
       "      <td>2...</td>\n",
       "      <td>6174</td>\n",
       "      <td>...</td>\n",
       "      <td>0.0</td>\n",
       "      <td>5</td>\n",
       "      <td>S...</td>\n",
       "      <td>S...</td>\n",
       "      <td>L...</td>\n",
       "      <td>L...</td>\n",
       "    </tr>\n",
       "  </tbody>\n",
       "</table>\n",
       "<p>5 rows × 17 columns</p>\n",
       "</div>"
      ],
      "text/plain": [
       "   Unnamed: 0  Unnamed: 0.1 start_date  start_station_code end_date  \\\n",
       "0     0           0          2...       7060                2...      \n",
       "1     1           1          2...       6173                2...      \n",
       "2     2           2          2...       6203                2...      \n",
       "3     3           3          2...       6104                2...      \n",
       "4     4           4          2...       6174                2...      \n",
       "\n",
       "   end_station_code   ...    hour  day_of_week  qr_st  qr_en  arr_st  arr_en  \n",
       "0  7060               ...     0.0     5         V...   V...   V...    V...    \n",
       "1  6173               ...     0.0     5         P...   P...   L...    L...    \n",
       "2  6204               ...     0.0     5         M...   M...   L...    L...    \n",
       "3  6114               ...     0.0     5         S...   S...   V...    V...    \n",
       "4  6174               ...     0.0     5         S...   S...   L...    L...    \n",
       "\n",
       "[5 rows x 17 columns]"
      ]
     },
     "execution_count": 292,
     "metadata": {},
     "output_type": "execute_result"
    }
   ],
   "source": [
    "pd.set_option('display.max_colwidth', 5)\n",
    "pd.set_option('display.max_columns', 12)\n",
    "pd.set_option('display.notebook_repr_html', True)\n",
    "\n",
    "df.head()"
   ]
  },
  {
   "cell_type": "code",
   "execution_count": null,
   "metadata": {
    "collapsed": true
   },
   "outputs": [],
   "source": []
  },
  {
   "cell_type": "code",
   "execution_count": 303,
   "metadata": {
    "collapsed": false
   },
   "outputs": [
    {
     "data": {
      "text/plain": [
       "pandas.formats.style.Styler"
      ]
     },
     "execution_count": 303,
     "metadata": {},
     "output_type": "execute_result"
    }
   ],
   "source": []
  },
  {
   "cell_type": "code",
   "execution_count": 706,
   "metadata": {
    "collapsed": false
   },
   "outputs": [
    {
     "data": {
      "text/plain": [
       "192228"
      ]
     },
     "execution_count": 706,
     "metadata": {},
     "output_type": "execute_result"
    }
   ],
   "source": [
    "pd.DataFrame(df.groupby('qr_st')['qr_st'].count()).values.sum()"
   ]
  },
  {
   "cell_type": "code",
   "execution_count": 713,
   "metadata": {
    "collapsed": false
   },
   "outputs": [
    {
     "data": {
      "text/plain": [
       "Index(['Crémazie', 'Côte-Saint-Antoine', 'Côte-Saint-Paul',\n",
       "       'Desmarchais-Crawford', 'François-Perrault', 'Gabriel-Sagard',\n",
       "       'Hochelaga', 'Ile-des-Soeurs', 'Longue-Pointe', 'Lorimier',\n",
       "       'Louis-Hébert', 'Louis-Riel', 'Loyola', 'Maisonneuve', 'Marie-Victorin',\n",
       "       'Mile End', 'Milton-Parc', 'Montagne', 'Nicolas-Viel', 'Outremont',\n",
       "       'Parc-Extension', 'Parc-Jarry', 'Parc-Kent', 'Parc-Lafontaine',\n",
       "       'Parc-Laurier', 'Petite-Bourgogne', 'Petite-Côte',\n",
       "       'Pointe-Saint-Charles', 'Préfontaine', 'Père-Marquette',\n",
       "       'René-Lévesque', 'Saint-Henri', 'Saint-Louis', 'Saint-Sulpice',\n",
       "       'Saint-Édouard', 'Sainte-Lucie', 'Sainte-Marie', 'Sault-au-Récollet',\n",
       "       'Savane', 'Snowdon', 'Upper Lachine', 'Verdun-Centre', 'Vieux-Montréal',\n",
       "       'Vieux-Rosemont', 'Ville-Émard', 'Westmount', 'Édouard-Montpetit',\n",
       "       'Étienne Desmarteaux'],\n",
       "      dtype='object', name='qr_en')"
      ]
     },
     "execution_count": 713,
     "metadata": {},
     "output_type": "execute_result"
    }
   ],
   "source": [
    "pd.DataFrame(df.groupby('qr_en')['qr_en'].count()).index"
   ]
  },
  {
   "cell_type": "code",
   "execution_count": 721,
   "metadata": {
    "collapsed": false
   },
   "outputs": [
    {
     "data": {
      "text/html": [
       "<script>requirejs.config({paths: { 'plotly': ['https://cdn.plot.ly/plotly-latest.min']},});if(!window.Plotly) {{require(['plotly'],function(plotly) {window.Plotly=plotly;});}}</script>"
      ],
      "text/plain": [
       "<IPython.core.display.HTML object>"
      ]
     },
     "metadata": {},
     "output_type": "display_data"
    },
    {
     "data": {
      "text/plain": [
       "'file:///home/maison/image1.html'"
      ]
     },
     "execution_count": 721,
     "metadata": {},
     "output_type": "execute_result"
    }
   ],
   "source": [
    "init_notebook_mode(connected=True)\n",
    "plot([{'x' : np.arange(len(df)), 'y' : df['duration_sec']}],filename='image1.html',auto_open=False,)"
   ]
  },
  {
   "cell_type": "code",
   "execution_count": 722,
   "metadata": {
    "collapsed": false
   },
   "outputs": [
    {
     "data": {
      "text/html": [
       "<iframe width= \"75%\" height = \"760\" src='image1.html'></iframe>"
      ],
      "text/plain": [
       "<IPython.core.display.HTML object>"
      ]
     },
     "metadata": {},
     "output_type": "display_data"
    }
   ],
   "source": [
    "%%HTML\n",
    "<iframe width= \"75%\" height = \"760\" src='image1.html'></iframe>"
   ]
  },
  {
   "cell_type": "code",
   "execution_count": 748,
   "metadata": {
    "collapsed": false
   },
   "outputs": [
    {
     "name": "stderr",
     "output_type": "stream",
     "text": [
      "/home/maison/anaconda3/lib/python3.6/site-packages/statsmodels/nonparametric/kdetools.py:20: VisibleDeprecationWarning:\n",
      "\n",
      "using a non-integer number instead of an integer will result in an error in the future\n",
      "\n"
     ]
    },
    {
     "data": {
      "text/plain": [
       "'file:///home/maison/distplot.html'"
      ]
     },
     "execution_count": 748,
     "metadata": {},
     "output_type": "execute_result"
    }
   ],
   "source": [
    "fig = plt.figure(figsize=(10,10))\n",
    "sns.distplot(df[df['is_member']==1]['duration_sec'])\n",
    "sns.distplot(df[df['is_member']==0]['duration_sec'], color='r')\n",
    "sns.distplot(df[df['start_station_code']==df['end_station_code']]['duration_sec'], color='g')\n",
    "\n",
    "py.plot_mpl(fig, filename='distplot.html', auto_open=False)\n"
   ]
  },
  {
   "cell_type": "code",
   "execution_count": 749,
   "metadata": {
    "collapsed": false
   },
   "outputs": [
    {
     "data": {
      "text/html": [
       "<iframe width= \"75%\" height = \"760\" src='distplot.html'></iframe>"
      ],
      "text/plain": [
       "<IPython.core.display.HTML object>"
      ]
     },
     "metadata": {},
     "output_type": "display_data"
    }
   ],
   "source": [
    "%%HTML\n",
    "<iframe width= \"75%\" height = \"760\" src='distplot.html'></iframe>"
   ]
  },
  {
   "cell_type": "code",
   "execution_count": null,
   "metadata": {
    "collapsed": true
   },
   "outputs": [],
   "source": []
  }
 ],
 "metadata": {
  "kernelspec": {
   "display_name": "Python 3",
   "language": "python",
   "name": "python3"
  },
  "language_info": {
   "codemirror_mode": {
    "name": "ipython",
    "version": 3
   },
   "file_extension": ".py",
   "mimetype": "text/x-python",
   "name": "python",
   "nbconvert_exporter": "python",
   "pygments_lexer": "ipython3",
   "version": "3.6.0"
  }
 },
 "nbformat": 4,
 "nbformat_minor": 2
}
